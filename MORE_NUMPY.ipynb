{
 "cells": [
  {
   "metadata": {},
   "cell_type": "markdown",
   "source": "Boolean Masks: Generate 100 random numbers, find numbers divisible by 3, and replace them with -1.",
   "id": "91bc924203d8622f"
  },
  {
   "metadata": {
    "ExecuteTime": {
     "end_time": "2025-03-14T01:45:02.752582Z",
     "start_time": "2025-03-14T01:45:02.165461Z"
    }
   },
   "cell_type": "code",
   "source": [
    "import numpy as np\n",
    "nums = np.random.randint(1, 1000, size=100) ## making random numbers\n",
    "\n",
    "my_mask = nums % 3 == 0 ## finding those divisible by 3\n",
    "nums[my_mask] = -1 ## doing the replacement using a mask and printing it\n",
    "print(nums)\n",
    "\n",
    "alternate_rows = nums[::2]\n",
    "print(alternate_rows)\n"
   ],
   "id": "debd9b2dd588be93",
   "outputs": [
    {
     "name": "stdout",
     "output_type": "stream",
     "text": [
      "[764 523 280 943 412 172  -1 106 512 388  -1 521 676  -1  -1 947 976 349\n",
      " 436 221 728  -1  -1  -1 332  -1  70 896 389  -1 194 401 193  -1 497 629\n",
      "  -1  -1 206 196 383  -1 689 578 673 244 503 164 689 665  -1  -1  -1 788\n",
      " 238 736  -1 508 764  88 980  52  -1 304  -1 575 686 733  52  -1 179  44\n",
      " 131 836  -1  -1 976 625  -1 136  -1  -1  -1 166  -1 719 142 364 553 904\n",
      " 392  -1 643 806 370  44 751 409 265 365]\n",
      "[764 280 412  -1 512  -1 676  -1 976 436 728  -1 332  70 389 194 193 497\n",
      "  -1 206 383 689 673 503 689  -1  -1 238  -1 764 980  -1  -1 686  52 179\n",
      " 131  -1 976  -1  -1  -1  -1 142 553 392 643 370 751 265]\n"
     ]
    }
   ],
   "execution_count": 1
  },
  {
   "metadata": {},
   "cell_type": "markdown",
   "source": "Fancy Indexing: Extract every alternate row from a 5×5 matrix.",
   "id": "2c0342fb3b5b827"
  },
  {
   "metadata": {
    "ExecuteTime": {
     "end_time": "2025-03-14T01:45:13.267816Z",
     "start_time": "2025-03-14T01:45:13.262188Z"
    }
   },
   "cell_type": "code",
   "source": [
    "import numpy as np\n",
    "matrix = np.random.uniform(1, 10, size=(5, 5)) ## making 5x5 matrix\n",
    "wanted_rows = matrix[::2]\n",
    "print(wanted_rows)"
   ],
   "id": "d00f4722f8158aaa",
   "outputs": [
    {
     "name": "stdout",
     "output_type": "stream",
     "text": [
      "[[3.27530504 7.6408896  8.9164746  2.35501339 4.57715106]\n",
      " [4.4320922  9.61864251 3.67930011 1.23558157 7.6415219 ]\n",
      " [7.92256505 6.9974654  8.99805511 9.57807333 4.62029474]]\n"
     ]
    }
   ],
   "execution_count": 2
  },
  {
   "metadata": {},
   "cell_type": "markdown",
   "source": "Sorting: Generate a 10×10 matrix and sort by first column.",
   "id": "1c5eedfb3b2dc108"
  },
  {
   "metadata": {
    "ExecuteTime": {
     "end_time": "2025-03-14T01:46:06.591879Z",
     "start_time": "2025-03-14T01:46:06.585601Z"
    }
   },
   "cell_type": "code",
   "source": [
    "import numpy as np\n",
    "matrix = np.random.uniform(1, 100, size=(10, 10)) # making mat\n",
    "ordered_mat= matrix[matrix[:, 0].argsort()] ## first column is 0th, sorting by the first column\n",
    "print(ordered_mat)\n"
   ],
   "id": "9153b0e2adc33f3c",
   "outputs": [
    {
     "name": "stdout",
     "output_type": "stream",
     "text": [
      "[[15.1892292  88.12449097 64.15548352 86.71911013 75.6368306  39.55344615\n",
      "  29.83556206 13.01132632  2.25650497 25.55321124]\n",
      " [23.1600912  47.60810264 24.97870267 95.0184948  58.64560931 80.92727204\n",
      "  72.69882056  4.19478996 57.28741915  4.27022166]\n",
      " [25.19463784 11.91291981 95.31306574 70.91527624  4.0813113  40.3161492\n",
      "  70.58177089 57.43374393 33.09449601 41.82424612]\n",
      " [27.44804122 94.31741722 16.15210921 76.57266606 91.91523208 89.27624494\n",
      "  76.29507155 30.77849013 16.5790574  56.5561445 ]\n",
      " [28.90814028 14.14365563 57.95269066 55.26026932 32.27256866 22.1753158\n",
      "   6.01835978 78.61563677 53.98829936  8.48461496]\n",
      " [42.24465801 31.89179482 93.41913734 93.20711197 60.15906964 52.18092694\n",
      "  63.40216356 25.67618369 99.04396389 48.01392878]\n",
      " [58.24977666 89.95166621 81.22162802  1.24161195 53.90994723 82.64268151\n",
      "  92.34655504 62.79264415 26.00729598 55.02850428]\n",
      " [61.47027986 18.14683442 46.59557389 54.12326933 75.53090862 90.95051294\n",
      "  32.89021903 91.66368237 28.88532905 56.98609811]\n",
      " [97.95425005  2.22927188 72.75565765 29.34529479 36.9827169  63.36510947\n",
      "   7.60795456  9.94925194 37.59615607 84.05243985]\n",
      " [98.93527042 42.712387   90.95016741 98.51687507 39.6503977  69.19053391\n",
      "  23.99466288 81.24923446 49.17973463 18.76736559]]\n"
     ]
    }
   ],
   "execution_count": 3
  },
  {
   "metadata": {},
   "cell_type": "markdown",
   "source": [
    "4.Objective:\n",
    "Use NumPy to analyze rainfall data and extract meaningful insights using Boolean masking, fancy indexing, sorting, and structured arrays."
   ],
   "id": "104bc29d45ccbed"
  },
  {
   "metadata": {},
   "cell_type": "code",
   "outputs": [],
   "execution_count": null,
   "source": "",
   "id": "fd26334209d059ed"
  },
  {
   "metadata": {},
   "cell_type": "markdown",
   "source": [
    "Dataset:\n",
    "You are provided with an array representing daily rainfall (in mm) over a year in a fictional city:\n",
    "\n",
    "import numpy as np\n",
    "\n",
    "np.random.seed(42)\n",
    "\n",
    "rainfall = np.random.gamma(shape=2.0, scale=2.0, size=365)  # Synthetic daily rainfall data\n",
    "\n",
    "rainfall[np.random.choice(365, 100, replace=False)] = 0  # 100 dry days\n",
    "\n",
    "1. Boolean Arrays & Masks (Section 2.06)\n",
    "Basic Rainy Day Count:\n",
    "\n",
    "Use a Boolean mask to find how many days had rain (i.e., rainfall > 0 mm).\n",
    "\n",
    "Heavy Rain Days:\n",
    "\n",
    "Find the percentage of days where rainfall exceeded 5 mm.\n",
    "\n",
    "Dry Spells:\n",
    "\n",
    "Find the longest consecutive sequence of dry days (rainfall == 0).\n"
   ],
   "id": "c5d8fc8b405add06"
  },
  {
   "metadata": {},
   "cell_type": "code",
   "outputs": [],
   "execution_count": null,
   "source": [
    "import numpy as np\n",
    "np.random.seed(42) # given data\n",
    "rainfall = np.random.gamma(shape=2.0, scale=2.0, size=365)\n",
    "rainfall[np.random.choice(365, 100, replace=False)] = 0\n",
    "\n",
    "\n",
    "days_rain = np.sum(rainfall > 0) #finding days using np.sum\n",
    "print(\"Number of rainy days:\", days_rain)\n",
    "\n",
    "days_heavyrain = np.sum(rainfall > 5) / 365 * 100 ##finding days, putting it over days*100 to find %\n",
    "print(\"Percent of days with rain over 5mm:\", days_heavyrain, \"%\")\n",
    "\n",
    "dry_dayst = (rainfall == 0)\n",
    "longest_dryspell = 0\n",
    "current_dryspell = 0\n",
    "\n",
    "for day in dry_dayst:\n",
    "    if day:\n",
    "        current_dryspell += 1\n",
    "        longest_dryspell = max(longest_dryspell, current_dryspell)\n",
    "    else:\n",
    "        current_dryspell = 0\n",
    "print(\"Longest dry spell (consecutive dry days):\", longest_dryspell)\n"
   ],
   "id": "889f14ce60ceca4f"
  },
  {
   "metadata": {},
   "cell_type": "markdown",
   "source": [
    "\n",
    "2. Fancy Indexing (Section 2.07)\n",
    "Top Rainfall Days:\n",
    "\n",
    "Find the 10 wettest days of the year using fancy indexing.\n",
    "\n",
    "Monthly Averages:\n",
    "\n",
    "Assume the data starts on January 1st. Compute the average monthly rainfall using fancy indexing."
   ],
   "id": "27bcfe988f4ff051"
  },
  {
   "metadata": {},
   "cell_type": "code",
   "outputs": [],
   "execution_count": null,
   "source": [
    "import numpy as np\n",
    "np.random.seed(42)\n",
    "rainfall = np.random.gamma(shape=2.0, scale=2.0, size=365)\n",
    "rainfall[np.random.choice(365, 100, replace=False)] = 0\n",
    "\n",
    "top_rainfall_days_indices = np.argsort(rainfall)[-10:]\n",
    "\n",
    "top_rainfall_days = rainfall[top_rainfall_days_indices]\n",
    "\n",
    "# 2. Compute the average monthly rainfall using fancy indexing\n",
    "# Assuming the data starts on January 1st, split into months (31, 28, 31, 30, ..., 31 days)\n",
    "days_in_month = [31, 28, 31, 30, 31, 30, 31, 31, 30, 31, 30, 31]\n",
    "monthly_averages = []\n",
    "\n",
    "start_day = 0\n",
    "for days_in_current_month in days_in_month:\n",
    "    # Slice the rainfall array for the current month\n",
    "    end_day = start_day + days_in_current_month\n",
    "    monthly_averages.append(np.mean(rainfall[start_day:end_day]))\n",
    "    start_day = end_day\n",
    "\n",
    "# Output the results\n",
    "print(\"Top 10 Wettest Days (Rainfall):\", top_rainfall_days)\n",
    "print(\"\\nMonthly Averages (Rainfall):\", monthly_averages)"
   ],
   "id": "733ad3caa89216cb"
  },
  {
   "metadata": {},
   "cell_type": "markdown",
   "source": [
    "3. Sorting (Section 2.08)\n",
    "Sorting Rainfall Data:\n",
    "\n",
    "Sort the rainfall array in ascending order and find the median rainfall value.\n",
    "\n",
    "Percentile Analysis:\n",
    "\n",
    "Find the 90th percentile of rainfall (i.e., the rainfall value above which only 10% of days occur)."
   ],
   "id": "a3be4af1321ca413"
  },
  {
   "metadata": {},
   "cell_type": "code",
   "outputs": [],
   "execution_count": null,
   "source": [
    "import numpy as np\n",
    "\n",
    "# Set random seed for reproducibility\n",
    "np.random.seed(42)\n",
    "\n",
    "# Generate synthetic daily rainfall data\n",
    "rainfall = np.random.gamma(shape=2.0, scale=2.0, size=365)\n",
    "\n",
    "# Set 100 dry days (rainfall == 0)\n",
    "rainfall[np.random.choice(365, 100, replace=False)] = 0\n",
    "\n",
    "# 1. Sort the rainfall array in ascending order\n",
    "sorted_rainfall = np.sort(rainfall)\n",
    "\n",
    "# Find the median rainfall value\n",
    "median_rainfall = np.median(rainfall)\n",
    "\n",
    "# 2. Find the 90th percentile of rainfall\n",
    "ninety_percentile_rainfall = np.percentile(rainfall, 90)\n",
    "\n",
    "# Output the results\n",
    "print(\"Sorted Rainfall Data (first 10 values):\", sorted_rainfall[:10])\n",
    "print(\"Median Rainfall:\", median_rainfall)\n",
    "print(\"90th Percentile of Rainfall:\", ninety_percentile_rainfall)\n"
   ],
   "id": "5afde29eaef4a30"
  },
  {
   "metadata": {},
   "cell_type": "markdown",
   "source": [
    "4. Structured Data (Section 2.09)\n",
    "Creating a Structured Array:\n",
    "\n",
    "Create a structured NumPy array where each entry contains:\n",
    "\n",
    "day (integer, 1 to 365)\n",
    "\n",
    "rainfall (float, in mm)\n",
    "\n",
    "is_rainy (Boolean, True if rainfall > 0)\n",
    "\n",
    "Filtering Data with Structured Arrays:\n",
    "\n",
    "Use Boolean masks on the structured array to extract all rainy days and compute their average rainfall.\n",
    "\n",
    "Sorting Structured Data:\n",
    "\n",
    "Sort the structured array by rainfall and print the top 5 rainiest days."
   ],
   "id": "8a0668455cdfad65"
  },
  {
   "metadata": {},
   "cell_type": "code",
   "outputs": [],
   "execution_count": null,
   "source": [
    "import numpy as np\n",
    "np.random.seed(42)\n",
    "rainfall = np.random.gamma(shape=2.0, scale=2.0, size=365)\n",
    "\n",
    "# Set 100 dry days (rainfall == 0)\n",
    "rainfall[np.random.choice(365, 100, replace=False)] = 0\n",
    "\n",
    "# 1. Creating a Structured Array\n",
    "# Create a structured array where each entry has 'day', 'rainfall', and 'is_rainy'\n",
    "dtype = [('day', 'i4'), ('rainfall', 'f4'), ('is_rainy', 'b1')]\n",
    "structured_array = np.zeros(365, dtype=dtype)\n",
    "\n",
    "# Fill the structured array\n",
    "structured_array['day'] = np.arange(1, 366)  # Days 1 to 365\n",
    "structured_array['rainfall'] = rainfall\n",
    "structured_array['is_rainy'] = rainfall > 0  # True if rainfall > 0\n",
    "\n",
    "# 2. Filtering Data: Extract all rainy days and compute their average rainfall\n",
    "rainy_days = structured_array[structured_array['is_rainy']]  # Extract all rainy days\n",
    "average_rainfall_rainy_days = np.mean(rainy_days['rainfall'])\n",
    "\n",
    "# 3. Sorting Structured Data: Sort the structured array by rainfall and print the top 5 rainiest days\n",
    "sorted_rainy_days = np.sort(structured_array, order='rainfall')  # Sort by 'rainfall'\n",
    "top_5_rainiest_days = sorted_rainy_days[-5:]  # Top 5 wettest days\n",
    "\n",
    "# Output the results\n",
    "print(\"Average rainfall on rainy days:\", average_rainfall_rainy_days)\n",
    "print(\"\\nTop 5 Rainiest Days:\")\n",
    "print(top_5_rainiest_days[['day', 'rainfall']])\n"
   ],
   "id": "63abb2e6204ea99d"
  }
 ],
 "metadata": {
  "kernelspec": {
   "display_name": "Python 3",
   "language": "python",
   "name": "python3"
  },
  "language_info": {
   "codemirror_mode": {
    "name": "ipython",
    "version": 2
   },
   "file_extension": ".py",
   "mimetype": "text/x-python",
   "name": "python",
   "nbconvert_exporter": "python",
   "pygments_lexer": "ipython2",
   "version": "2.7.6"
  }
 },
 "nbformat": 4,
 "nbformat_minor": 5
}
