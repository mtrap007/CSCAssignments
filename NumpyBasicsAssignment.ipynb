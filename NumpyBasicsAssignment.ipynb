{
 "cells": [
  {
   "metadata": {},
   "cell_type": "markdown",
   "source": [
    "💡 Exercise 1: Why is NumPy Faster?\n",
    "🔹 Write a Python program in PyCharm that compares the speed of Python lists vs. NumPy arrays for squaring 1 million numbers.\n",
    "\n",
    "\n",
    "📝 Question: Which approach is faster? Why?"
   ],
   "id": "8a99784baf6b1e45"
  },
  {
   "metadata": {},
   "cell_type": "code",
   "outputs": [],
   "execution_count": null,
   "source": [
    "import time\n",
    "import numpy as np\n",
    "million = list(range(1, 1000001))\n",
    "numpy_data = np.arange(1, 1000001)\n",
    "\n",
    "\n",
    "time1 = time.time()\n",
    "squared_list = [x ** 2 for x in million]\n",
    "python_time = time.time() - time1\n",
    "\n",
    "time1 = time.time()\n",
    "squared_numpy = numpy_data ** 2\n",
    "numpy_time = time.time() - time1\n",
    "\n",
    "print(f\"Time (in seconds) for Python list: {python_time:.6f}\")\n",
    "print(f\"Time (in seconds) for NUMPY ARRAYS: {numpy_time:.6f}\")"
   ],
   "id": "d6da4cce7ac5ef4c"
  },
  {
   "metadata": {},
   "cell_type": "markdown",
   "source": "The NumPy approach is going to yield faster results, as it is written in C which is a faster language.",
   "id": "cfb7d5d09189e245"
  },
  {
   "metadata": {},
   "cell_type": "markdown",
   "source": [
    " Exercise 2: Create Different Arrays\n",
    "🔹 Create a 4x4 matrix of random numbers.\n",
    "🔹 Print its shape, size, and dimensions."
   ],
   "id": "c829d52173358b6c"
  },
  {
   "metadata": {},
   "cell_type": "code",
   "outputs": [],
   "execution_count": null,
   "source": [
    "import numpy as np\n",
    "\n",
    "random = np.random.rand(4, 4)\n",
    "print(random)\n",
    "\n",
    "print(\"\\nMatrix Shape:\", random.shape)\n",
    "print(\"Matrix Size:\", random.size)\n",
    "print(\"Matrix Dimensions:\", random.ndim)\n"
   ],
   "id": "c5938b65b08de0d2"
  },
  {
   "metadata": {},
   "cell_type": "markdown",
   "source": [
    "💡 Exercise 3: Random Data Generation\n",
    "🔹 Create a 3x3 identity matrix.\n",
    "🔹 Create a 1D array of 20 random integers between 1 and 100."
   ],
   "id": "516b2030f5cc4694"
  },
  {
   "metadata": {},
   "cell_type": "code",
   "outputs": [],
   "execution_count": null,
   "source": [
    "import numpy as np\n",
    "\n",
    "identity = np.eye(3)\n",
    "print(identity)\n",
    "\n",
    "integer_mat = np.random.randint(1, 101, size=20)\n",
    "print(integer_mat)\n"
   ],
   "id": "2eaed9b2d8553cf4"
  },
  {
   "metadata": {},
   "cell_type": "markdown",
   "source": [
    "💡 Exercise 4: Array Slicing\n",
    "🔹 Given a 5x5 matrix of numbers from 1 to 25, extract:\n",
    "\n",
    "The third row\n",
    "The last two columns\n",
    "A 3x3 submatrix from the center"
   ],
   "id": "cd13731f79fd158f"
  },
  {
   "metadata": {},
   "cell_type": "code",
   "outputs": [],
   "execution_count": null,
   "source": [
    "import numpy as np\n",
    "\n",
    "matrix = np.arange(1, 26).reshape(5, 5)\n",
    "\n",
    "third_r = matrix[2, :]\n",
    "print(\"\\nThird row:\")\n",
    "print(third_r)\n",
    "\n",
    "two_cols = matrix[:, -2:]\n",
    "print(\"\\nLast two columns:\")\n",
    "print(two_cols)\n",
    "\n",
    "submatrix = matrix[1:4, 1:4]\n",
    "print(\"\\n3x3 Submatrix from the center:\")\n",
    "print(submatrix)"
   ],
   "id": "1d4c631005ab026d"
  },
  {
   "metadata": {},
   "cell_type": "markdown",
   "source": [
    "💡 Exercise 5: Reshaping Practice\n",
    "🔹 Reshape a 1D array of 20 elements into a 4x5 matrix."
   ],
   "id": "c3edf84c101d447c"
  },
  {
   "metadata": {},
   "cell_type": "code",
   "outputs": [],
   "execution_count": null,
   "source": [
    "import numpy as np\n",
    "\n",
    "array = np.arange(1, 21)\n",
    "new_mat = array.reshape(4, 5)\n",
    "print(array)\n",
    "print(new_mat)\n"
   ],
   "id": "d81df1511fa18678"
  }
 ],
 "metadata": {
  "kernelspec": {
   "display_name": "Python 3",
   "language": "python",
   "name": "python3"
  },
  "language_info": {
   "codemirror_mode": {
    "name": "ipython",
    "version": 2
   },
   "file_extension": ".py",
   "mimetype": "text/x-python",
   "name": "python",
   "nbconvert_exporter": "python",
   "pygments_lexer": "ipython2",
   "version": "2.7.6"
  }
 },
 "nbformat": 4,
 "nbformat_minor": 5
}
