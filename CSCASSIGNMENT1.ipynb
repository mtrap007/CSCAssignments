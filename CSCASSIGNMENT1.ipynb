{
 "cells": [
  {
   "metadata": {},
   "cell_type": "markdown",
   "source": [
    "Exercise 1: Hello, World!\n",
    "Write a Python program that prints \"Hello, World!\" to the console.\n",
    "\n",
    "Example Output:\n",
    "\n",
    "Hello, World!"
   ],
   "id": "aa815862be0ecb85"
  },
  {
   "metadata": {
    "ExecuteTime": {
     "end_time": "2025-02-05T19:18:55.640063Z",
     "start_time": "2025-02-05T19:18:55.625205Z"
    }
   },
   "cell_type": "code",
   "source": "print(\"Hello, World!\")",
   "id": "8d0e3c0b632d0621",
   "outputs": [
    {
     "name": "stdout",
     "output_type": "stream",
     "text": [
      "Hello, World!\n"
     ]
    }
   ],
   "execution_count": 2
  },
  {
   "metadata": {},
   "cell_type": "markdown",
   "source": [
    "Exercise 2: Simple Arithmetic\n",
    "Create a Python program that:\n",
    "\n",
    "Adds two numbers (e.g., 5 and 10).\n",
    "Subtracts two numbers (e.g., 20 and 7).\n",
    "Multiplies two numbers (e.g., 3 and 8).\n",
    "Divides two numbers (e.g., 25 by 5)."
   ],
   "id": "49f2ef83b15239ac"
  },
  {
   "metadata": {
    "ExecuteTime": {
     "end_time": "2025-02-05T19:21:40.499238Z",
     "start_time": "2025-02-05T19:21:40.494871Z"
    }
   },
   "cell_type": "code",
   "source": [
    "print(\"5 + 10 = \", 5 + 10)\n",
    "\n",
    "print(\"20 - 7 = \",  20 - 7)\n",
    "\n",
    "print(\"3 * 8 = \", 3 * 8 )\n",
    "\n",
    "print(\"25 / 5 = \", 25 / 5)"
   ],
   "id": "a252acfb2399b48b",
   "outputs": [
    {
     "name": "stdout",
     "output_type": "stream",
     "text": [
      "5 + 10 =  15\n",
      "20 - 7 =  13\n",
      "3 * 8 =  24\n",
      "25 / 5 =  5.0\n"
     ]
    }
   ],
   "execution_count": 6
  },
  {
   "metadata": {},
   "cell_type": "markdown",
   "source": [
    "Exercise 3: Age Calculator\n",
    "Write a program that:\n",
    "\n",
    "Stores your age in a variable.\n",
    "Prints a message saying: “I am X years old” where X is your age."
   ],
   "id": "afbdde575b625a13"
  },
  {
   "metadata": {
    "ExecuteTime": {
     "end_time": "2025-02-05T19:27:31.182005Z",
     "start_time": "2025-02-05T19:27:28.548509Z"
    }
   },
   "cell_type": "code",
   "source": [
    "age = input(\"Enter your age: \");\n",
    "print(\"I am\", age, \"years old.\")"
   ],
   "id": "166039925ed728fc",
   "outputs": [
    {
     "name": "stdout",
     "output_type": "stream",
     "text": [
      "I am 21 years old.\n"
     ]
    }
   ],
   "execution_count": 8
  },
  {
   "metadata": {},
   "cell_type": "markdown",
   "source": [
    "Exercise 4: Temperature Converter\n",
    "Write a program that converts temperature from Celsius to Fahrenheit.\n",
    "\n",
    "Use the formula: Fahrenheit = (Celsius * 9/5) + 32.\n",
    "Ask the user to input a temperature in Celsius and then print the equivalent temperature in Fahrenheit."
   ],
   "id": "6dd972b5d6894b9c"
  },
  {
   "metadata": {
    "ExecuteTime": {
     "end_time": "2025-02-05T19:32:22.091071Z",
     "start_time": "2025-02-05T19:32:18.825097Z"
    }
   },
   "cell_type": "code",
   "source": [
    "degree = input(\"Enter your temperature in Celcius: \");\n",
    "celcius = int(degree);\n",
    "Fahrenheit = (celcius * 9/5) + 32;\n",
    "print(\"The temperature in Fahrenheit is: \", Fahrenheit);"
   ],
   "id": "2f703f72486c4f32",
   "outputs": [
    {
     "name": "stdout",
     "output_type": "stream",
     "text": [
      "The temperature in Fahrenheit is:  84.2\n"
     ]
    }
   ],
   "execution_count": 12
  },
  {
   "metadata": {},
   "cell_type": "markdown",
   "source": [
    "Exercise 5: Odd or Even Write a program that asks the user to input a number and prints whether the number is odd or even.\n",
    "\n"
   ],
   "id": "58fb47900c9a0008"
  },
  {
   "metadata": {
    "ExecuteTime": {
     "end_time": "2025-02-05T19:36:35.485713Z",
     "start_time": "2025-02-05T19:36:34.165770Z"
    }
   },
   "cell_type": "code",
   "source": [
    "num = int(input(\"Enter a number: \"))\n",
    "if (num % 2) == 0:\n",
    "    print(num, \"is even.\")\n",
    "else:\n",
    "    print(num, \"is odd.\")\n"
   ],
   "id": "5a13d5c53318518",
   "outputs": [
    {
     "name": "stdout",
     "output_type": "stream",
     "text": [
      "8 is even.\n"
     ]
    }
   ],
   "execution_count": 16
  },
  {
   "metadata": {},
   "cell_type": "markdown",
   "source": [
    "Exercise 6: Check if a Number is Positive, Negative, or Zero\n",
    "Write a program that:\n",
    "\n",
    "Asks the user to input a number.\n",
    "Checks if the number is positive, negative, or zero, and prints the result."
   ],
   "id": "15d5a57af9b2eff7"
  },
  {
   "metadata": {
    "ExecuteTime": {
     "end_time": "2025-02-05T19:42:40.738584Z",
     "start_time": "2025-02-05T19:42:38.345931Z"
    }
   },
   "cell_type": "code",
   "source": [
    "num = int(input(\"Enter a number: \"))\n",
    "if (num >= 0):\n",
    "    if (num == 0):\n",
    "        print(\"The number is zero.\")\n",
    "    else:\n",
    "        print(\"The number is positive.\")\n",
    "if (num < 0):\n",
    "    print(\"The number is negative.\")"
   ],
   "id": "5093d513af7abfc1",
   "outputs": [
    {
     "name": "stdout",
     "output_type": "stream",
     "text": [
      "The number is positive.\n"
     ]
    }
   ],
   "execution_count": 27
  },
  {
   "metadata": {},
   "cell_type": "markdown",
   "source": [
    "Exercise 7: List Operations\n",
    "\n",
    "Create a list of numbers and perform the following tasks:\n",
    "\n",
    "Add a new number to the list.\n",
    "Remove an existing number from the list.\n",
    "Print the length of the list.\n",
    "Sort the list in ascending order.\n",
    "Example:\n",
    "\n",
    "numbers = [5, 2, 8, 1]\n",
    "# Add 10 to the list\n",
    "numbers.append(10)\n",
    "# Remove 2 from the list\n",
    "numbers.remove(2)\n",
    "# Print length of the list\n",
    "print(len(numbers))\n",
    "# Sort the list\n",
    "numbers.sort()\n",
    "print(numbers)"
   ],
   "id": "e2606394976b1d18"
  },
  {
   "metadata": {
    "ExecuteTime": {
     "end_time": "2025-02-14T02:59:42.812348Z",
     "start_time": "2025-02-14T02:59:42.807512Z"
    }
   },
   "cell_type": "code",
   "source": [
    "\n",
    "numbers = [5, 2, 8, 1, 7]\n",
    "\n",
    "numbers.append(10)\n",
    "\n",
    "numbers.remove(2)\n",
    "\n",
    "\n",
    "print(\"Length of the list:\", len(numbers))\n",
    "\n",
    "\n",
    "numbers.sort()\n",
    "\n",
    "\n",
    "print(\"Sorted list:\", numbers)\n"
   ],
   "id": "1a3f71177e9ae51",
   "outputs": [
    {
     "name": "stdout",
     "output_type": "stream",
     "text": [
      "Length of the list: 5\n",
      "Sorted list: [1, 5, 7, 8, 10]\n"
     ]
    }
   ],
   "execution_count": 12
  },
  {
   "metadata": {},
   "cell_type": "markdown",
   "source": [
    "Exercise 8: Factorial of a Number:\n",
    "\n",
    "Write a program that calculates the factorial of a given number using a loop.\n",
    "\n",
    "The factorial of a number n (denoted as n!) is the product of all integers from 1 to n. For example:\n",
    "\n",
    "5! = 5 * 4 * 3 * 2 * 1 = 120"
   ],
   "id": "872958227bb29cb9"
  },
  {
   "metadata": {
    "ExecuteTime": {
     "end_time": "2025-02-11T23:38:03.610650Z",
     "start_time": "2025-02-11T23:37:59.579591Z"
    }
   },
   "cell_type": "code",
   "source": [
    "num = int(input(\"Enter a number: \"))\n",
    "factorial = 1\n",
    "\n",
    "for i in range(1, num + 1):\n",
    "    factorial *= i\n",
    "\n",
    "print(f\"{num}! = {factorial}\")"
   ],
   "id": "e2477cfa79f07fa1",
   "outputs": [
    {
     "name": "stdout",
     "output_type": "stream",
     "text": [
      "3! = 6\n"
     ]
    }
   ],
   "execution_count": 6
  },
  {
   "metadata": {},
   "cell_type": "markdown",
   "source": [
    "Exercise 9: Multiplication Table\n",
    "Write a program that generates a multiplication table for a given number. The user should input a number, and the program should print the table from 1 to 10.\n"
   ],
   "id": "6a99bb901583574"
  },
  {
   "metadata": {
    "ExecuteTime": {
     "end_time": "2025-02-13T16:21:40.538187Z",
     "start_time": "2025-02-13T16:21:38.202403Z"
    }
   },
   "cell_type": "code",
   "source": [
    "num = int(input(\"Enter a number:\"))\n",
    "\n",
    "for i in range(1, 11):\n",
    "    print(f\"{num} x {i} = {num * i}\")"
   ],
   "id": "d3645afe5d95c76e",
   "outputs": [
    {
     "name": "stdout",
     "output_type": "stream",
     "text": [
      "8 x 1 = 8\n",
      "8 x 2 = 16\n",
      "8 x 3 = 24\n",
      "8 x 4 = 32\n",
      "8 x 5 = 40\n",
      "8 x 6 = 48\n",
      "8 x 7 = 56\n",
      "8 x 8 = 64\n",
      "8 x 9 = 72\n",
      "8 x 10 = 80\n"
     ]
    }
   ],
   "execution_count": 7
  },
  {
   "metadata": {},
   "cell_type": "markdown",
   "source": [
    "Exercise 10: Sum of Numbers in a List\n",
    "Write a program that calculates the sum of all numbers in a list without using the built-in sum() function. Use a forloop to iterate over the list.\n",
    "\n"
   ],
   "id": "5a25d6a83204c915"
  },
  {
   "metadata": {},
   "cell_type": "code",
   "outputs": [],
   "execution_count": null,
   "source": [
    "numbers = [1, 2, 3, 4, 5]\n",
    "\n",
    "total = 0\n",
    "for num in numbers:\n",
    "    total += num\n",
    "\n",
    "print(\"The sum of the numbers is:\", total)"
   ],
   "id": "d8b9db0e535d9f45"
  },
  {
   "metadata": {},
   "cell_type": "markdown",
   "source": [
    "Exercise 11: Guess the Number Game\n",
    "Write a simple guessing game where:\n",
    "\n",
    "The computer generates a random number between 1 and 20.\n",
    "The user has to guess the number.\n",
    "The program gives feedback if the guess is too high or too low.\n",
    "The game continues until the user guesses the number correctly.\n",
    "Example Output:\n",
    "\n",
    "I'm thinking of a number between 1 and 20. Try to guess it!\n",
    "Your guess: 10\n",
    "Too high. Try again.\n",
    "Your guess: 5\n",
    "Too low. Try again.\n",
    "Your guess: 7\n",
    "Correct! The number was 7.\n",
    "Hint: Use the random.randint(1, 20) function to generate a random number."
   ],
   "id": "45706a5bf8d3cd86"
  },
  {
   "metadata": {},
   "cell_type": "code",
   "outputs": [],
   "execution_count": null,
   "source": [
    "import random\n",
    "\n",
    "num = random.randint(1, 20)\n",
    "print(\"I'm thinking of a number between 1 and 20. Try to guess it\")\n",
    "\n",
    "user = None\n",
    "while user != num:\n",
    "    user = int(input(\"Your guess: \"))\n",
    "    if user < num:\n",
    "        print(\"Too low. Try again.\")\n",
    "    elif user > num:\n",
    "        print(\"Too high. Try again.\")\n",
    "    else:\n",
    "        print(f\"Right! The number was {num}.\")"
   ],
   "id": "8678fd7c69c3e873"
  },
  {
   "metadata": {},
   "cell_type": "markdown",
   "source": [
    "\n",
    "Exercise 12: Count Vowels in a String\n",
    "Write a Python program that counts the number of vowels (a, e, i, o, u) in a given string.\n",
    "\n",
    "Example Output:\n",
    "\n",
    "Enter a string: Hello, World!\n",
    "Number of vowels: 3"
   ],
   "id": "42304b7b3de08016"
  },
  {
   "metadata": {},
   "cell_type": "code",
   "outputs": [],
   "execution_count": null,
   "source": [
    "import random\n",
    "\n",
    "def count_vowels(string):\n",
    "    vowels = \"aeiouAEIOU\"\n",
    "    count = sum(1 for char in string if char in vowels)\n",
    "    return count\n",
    "\n",
    "string = input(\"Enter a string: \")\n",
    "print(\"Number of vowels:\", count_vowels(string))"
   ],
   "id": "d3a6a912b7f2991a"
  },
  {
   "metadata": {},
   "cell_type": "markdown",
   "source": [
    "Exercise 13: FizzBuzz\n",
    "Write a program that prints the numbers from 1 to 100. But for multiples of 3, print \"Fizz\" instead of the number, and for the multiples of 5, print \"Buzz\". For numbers which are multiples of both three and five, print \"FizzBuzz\".\n",
    "\n",
    "Example Output:\n",
    "\n",
    "python-replCopy1\n",
    "2\n",
    "Fizz\n",
    "4\n",
    "Buzz\n",
    "Fizz\n",
    "7\n",
    "8\n",
    "Fizz\n",
    "Buzz\n",
    "...\n",
    "FizzBuzz"
   ],
   "id": "3f167848d14ebac6"
  },
  {
   "metadata": {
    "ExecuteTime": {
     "end_time": "2025-02-14T02:58:46.335558Z",
     "start_time": "2025-02-14T02:58:46.327951Z"
    }
   },
   "cell_type": "code",
   "source": [
    "import random\n",
    "\n",
    "for num in range(1, 101):\n",
    "    if num % 3 == 0 and num % 5 == 0:\n",
    "        print(\"FizzBuzz\")\n",
    "    elif num % 3 == 0:\n",
    "        print(\"Fizz\")\n",
    "    elif num % 5 == 0:\n",
    "        print(\"Buzz\")\n",
    "    else:\n",
    "        print(num)\n"
   ],
   "id": "f9e28b8ab993a6e0",
   "outputs": [
    {
     "name": "stdout",
     "output_type": "stream",
     "text": [
      "1\n",
      "2\n",
      "Fizz\n",
      "4\n",
      "Buzz\n",
      "Fizz\n",
      "7\n",
      "8\n",
      "Fizz\n",
      "Buzz\n",
      "11\n",
      "Fizz\n",
      "13\n",
      "14\n",
      "FizzBuzz\n",
      "16\n",
      "17\n",
      "Fizz\n",
      "19\n",
      "Buzz\n",
      "Fizz\n",
      "22\n",
      "23\n",
      "Fizz\n",
      "Buzz\n",
      "26\n",
      "Fizz\n",
      "28\n",
      "29\n",
      "FizzBuzz\n",
      "31\n",
      "32\n",
      "Fizz\n",
      "34\n",
      "Buzz\n",
      "Fizz\n",
      "37\n",
      "38\n",
      "Fizz\n",
      "Buzz\n",
      "41\n",
      "Fizz\n",
      "43\n",
      "44\n",
      "FizzBuzz\n",
      "46\n",
      "47\n",
      "Fizz\n",
      "49\n",
      "Buzz\n",
      "Fizz\n",
      "52\n",
      "53\n",
      "Fizz\n",
      "Buzz\n",
      "56\n",
      "Fizz\n",
      "58\n",
      "59\n",
      "FizzBuzz\n",
      "61\n",
      "62\n",
      "Fizz\n",
      "64\n",
      "Buzz\n",
      "Fizz\n",
      "67\n",
      "68\n",
      "Fizz\n",
      "Buzz\n",
      "71\n",
      "Fizz\n",
      "73\n",
      "74\n",
      "FizzBuzz\n",
      "76\n",
      "77\n",
      "Fizz\n",
      "79\n",
      "Buzz\n",
      "Fizz\n",
      "82\n",
      "83\n",
      "Fizz\n",
      "Buzz\n",
      "86\n",
      "Fizz\n",
      "88\n",
      "89\n",
      "FizzBuzz\n",
      "91\n",
      "92\n",
      "Fizz\n",
      "94\n",
      "Buzz\n",
      "Fizz\n",
      "97\n",
      "98\n",
      "Fizz\n",
      "Buzz\n"
     ]
    }
   ],
   "execution_count": 11
  },
  {
   "metadata": {},
   "cell_type": "markdown",
   "source": [
    "Exercise 14: Reverse a String\n",
    "Write a program that takes a string from the user and prints the string in reverse order.\n",
    "\n",
    "Example Output:\n",
    "\n",
    "Enter a string: Python\n",
    "Reversed string: nohtyP"
   ],
   "id": "dc7990d8784418cc"
  },
  {
   "metadata": {
    "ExecuteTime": {
     "end_time": "2025-02-14T02:57:36.715140Z",
     "start_time": "2025-02-14T02:57:32.932679Z"
    }
   },
   "cell_type": "code",
   "source": [
    "\n",
    "string = input(\"Enter a string: \")\n",
    "print(\"Reversed string:\", string[::-1])"
   ],
   "id": "c1f3bdb03610b207",
   "outputs": [
    {
     "name": "stdout",
     "output_type": "stream",
     "text": [
      "Reversed string: ffuts\n"
     ]
    }
   ],
   "execution_count": 9
  }
 ],
 "metadata": {
  "kernelspec": {
   "display_name": "Python 3",
   "language": "python",
   "name": "python3"
  },
  "language_info": {
   "codemirror_mode": {
    "name": "ipython",
    "version": 2
   },
   "file_extension": ".py",
   "mimetype": "text/x-python",
   "name": "python",
   "nbconvert_exporter": "python",
   "pygments_lexer": "ipython2",
   "version": "2.7.6"
  }
 },
 "nbformat": 4,
 "nbformat_minor": 5
}
