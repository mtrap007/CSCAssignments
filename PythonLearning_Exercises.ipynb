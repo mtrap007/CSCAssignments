{
 "cells": [
  {
   "cell_type": "code",
   "id": "initial_id",
   "metadata": {
    "collapsed": true,
    "ExecuteTime": {
     "end_time": "2025-02-26T15:45:09.703473Z",
     "start_time": "2025-02-26T15:45:03.310272Z"
    }
   },
   "source": [
    "name = input('What is your name? ')\n",
    "print(\"Hi, \", name)"
   ],
   "outputs": [
    {
     "name": "stdout",
     "output_type": "stream",
     "text": [
      "Hi,  Megan\n"
     ]
    }
   ],
   "execution_count": 1
  },
  {
   "metadata": {
    "ExecuteTime": {
     "end_time": "2025-02-26T15:47:51.263344Z",
     "start_time": "2025-02-26T15:47:47.729747Z"
    }
   },
   "cell_type": "code",
   "source": [
    "name = input('What is your name? ')\n",
    "color = input('What is your favorite color? ')\n",
    "\n",
    "print(name, 'likes', color)"
   ],
   "id": "69c7490bdf9dc674",
   "outputs": [
    {
     "name": "stdout",
     "output_type": "stream",
     "text": [
      "meg likes blue\n"
     ]
    }
   ],
   "execution_count": 4
  },
  {
   "metadata": {
    "ExecuteTime": {
     "end_time": "2025-02-26T15:57:06.039121Z",
     "start_time": "2025-02-26T15:57:02.859756Z"
    }
   },
   "cell_type": "code",
   "source": [
    "weight_lbs = float(input('How much do you weigh (in lbs)? '))\n",
    "weight_kilo = 0.453592 * weight_lbs\n",
    "\n",
    "print('Your weight in kilograms is', weight_kilo)\n",
    "print(type(weight_kilo))Nu"
   ],
   "id": "68d2b55bf80bfa0e",
   "outputs": [
    {
     "name": "stdout",
     "output_type": "stream",
     "text": [
      "Your weight in kilograms is 77.11064\n",
      "<class 'float'>\n"
     ]
    }
   ],
   "execution_count": 6
  },
  {
   "metadata": {
    "ExecuteTime": {
     "end_time": "2025-03-11T22:47:36.098804Z",
     "start_time": "2025-03-11T22:47:36.093493Z"
    }
   },
   "cell_type": "code",
   "source": [
    "words = 'These are some words';\n",
    "some = words[1:-1]\n",
    "print(some)\n",
    "\n",
    "name = 'Jennifer '\n",
    "name = name.lower()\n",
    "print(f'{name}')"
   ],
   "id": "84db85eb40dddfc1",
   "outputs": [
    {
     "name": "stdout",
     "output_type": "stream",
     "text": [
      "hese are some word\n",
      "jennifer \n"
     ]
    }
   ],
   "execution_count": 5
  },
  {
   "metadata": {
    "ExecuteTime": {
     "end_time": "2025-03-11T23:01:43.826927Z",
     "start_time": "2025-03-11T23:01:43.822726Z"
    }
   },
   "cell_type": "code",
   "source": [
    "import numpy as np\n",
    "my_array = np.array([1,2,3]);\n",
    "print(f\"{my_array == 1}\")\n"
   ],
   "id": "9db03ea5a9c7ce3b",
   "outputs": [
    {
     "name": "stdout",
     "output_type": "stream",
     "text": [
      "[ True False False]\n"
     ]
    }
   ],
   "execution_count": 15
  },
  {
   "metadata": {
    "ExecuteTime": {
     "end_time": "2025-03-11T22:52:39.916665Z",
     "start_time": "2025-03-11T22:52:33.346869Z"
    }
   },
   "cell_type": "code",
   "source": [
    "a = int(input(\"Input a value for a: \"))\n",
    "b = int(input(\"Input a value for b: \"))\n",
    "print(f\"The values of a and b are: {a}, {b}\")\n",
    "c = b;\n",
    "b = a;\n",
    "a = c;\n",
    "print(f\"The values of a and b are now {a}, {b}\")\n"
   ],
   "id": "6d948177caf6cdbc",
   "outputs": [
    {
     "name": "stdout",
     "output_type": "stream",
     "text": [
      "The values of a and b are: 20, 10\n",
      "The values of a and b are now 10, 20\n"
     ]
    }
   ],
   "execution_count": 8
  },
  {
   "metadata": {},
   "cell_type": "code",
   "outputs": [],
   "execution_count": null,
   "source": "",
   "id": "d92f1721ccc78404"
  }
 ],
 "metadata": {
  "kernelspec": {
   "display_name": "Python 3",
   "language": "python",
   "name": "python3"
  },
  "language_info": {
   "codemirror_mode": {
    "name": "ipython",
    "version": 2
   },
   "file_extension": ".py",
   "mimetype": "text/x-python",
   "name": "python",
   "nbconvert_exporter": "python",
   "pygments_lexer": "ipython2",
   "version": "2.7.6"
  }
 },
 "nbformat": 4,
 "nbformat_minor": 5
}
