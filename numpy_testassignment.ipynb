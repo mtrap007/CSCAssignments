{
 "cells": [
  {
   "metadata": {},
   "cell_type": "code",
   "outputs": [],
   "execution_count": null,
   "source": [
    "Imports NumPy, pandas, and Matplotlib.\n",
    "Uses NumPy to create a list of 10 random numbers.\n",
    "Prints the mean and sum of these numbers using NumPy functions.\n",
    "Uses Matplotlib to plot a simple line graph of these numbers."
   ],
   "id": "ca11d81040a5c3b4"
  },
  {
   "metadata": {},
   "cell_type": "code",
   "outputs": [],
   "execution_count": null,
   "source": [
    "import numpy as np\n",
    "import matplotlib.pyplot as plt\n",
    "import pandas as pd\n",
    "\n",
    "nums = np.random.randint(0, 10, 10)\n",
    "print(nums)\n",
    "\n",
    "print(np.mean(nums))\n",
    "print(np.sum(nums))\n",
    "\n",
    "plt.plot(nums)\n"
   ],
   "id": "2e7e399381ef5475"
  },
  {
   "metadata": {},
   "cell_type": "markdown",
   "source": [
    "2. Strings and Regular Expressions (Section 14) (2 points)\n",
    "Task:\n",
    "Write a Python script that extracts all email addresses from a given text using regular expressions.\n",
    "HINTThe expression is as follows\n",
    "email_pattern = r'[a-zA-Z0-9._%+-]+@[a-zA-Z0-9.-]+\\.[a-zA-Z]{2,}' Example Input:\n",
    "\n",
    "pythonCopyEdittext = \"Contact us at support@example.com or sales@example.org for assistance.\"\n",
    "Expected Output:\n",
    "\n",
    "cssCopyEdit['support@example.com', 'sales@example.org']"
   ],
   "id": "11abb9552db7cf80"
  },
  {
   "metadata": {},
   "cell_type": "code",
   "outputs": [],
   "execution_count": null,
   "source": "",
   "id": "8fbfb8e8e3466236"
  },
  {
   "metadata": {},
   "cell_type": "markdown",
   "source": [
    "3. Preview of Data Science Tools (Section 15) (3 points)\n",
    "Task:\n",
    "Import NumPy, pandas, and Matplotlib.\n",
    "Perform the following simple operations:\n",
    "Use NumPy to create an array of 5 random numbers and print them.\n",
    "Use pandas to create a simple table with 3 columns (Name, Age, City) and 3 rows.\n",
    "Use Matplotlib to create a basic bar chart with 3 bars (representing any made-up values).\n",
    "Example Output:\n",
    "A list of 5 random numbers.\n",
    "A small table displayed in pandas.\n",
    "A bar chart with 3 bars."
   ],
   "id": "7c6d68567ff85df8"
  },
  {
   "metadata": {},
   "cell_type": "code",
   "outputs": [],
   "execution_count": null,
   "source": [
    "import numpy as np\n",
    "import matplotlib.pyplot as plt\n",
    "import pandas as pd\n",
    "\n",
    "x = np.random.randint(1,10,5)\n",
    "print(x)\n",
    "\n"
   ],
   "id": "bc7cecb5678abd6"
  },
  {
   "metadata": {},
   "cell_type": "markdown",
   "source": [
    "4. Exploring Further Resources (Section 16) & Figures (Section 17) (3 points)\n",
    "Task:\n",
    "Experiment with Matplotlib:\n",
    "Try changing the colors of a plot.\n",
    "Add labels to the x-axis and y-axis.\n",
    "Change the title of the plot.\n",
    "Write a short paragraph (2-3 sentences) about one interesting thing you learned from playing around with Matplotlib."
   ],
   "id": "475cc51f66d658aa"
  },
  {
   "metadata": {},
   "cell_type": "code",
   "outputs": [],
   "execution_count": null,
   "source": "",
   "id": "17563978db28dc11"
  }
 ],
 "metadata": {},
 "nbformat": 5,
 "nbformat_minor": 9
}
