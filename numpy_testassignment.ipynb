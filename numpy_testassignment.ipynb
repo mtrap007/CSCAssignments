{
 "cells": [
  {
   "metadata": {},
   "cell_type": "markdown",
   "source": [
    "Imports NumPy, pandas, and Matplotlib.\n",
    "Uses NumPy to create a list of 10 random numbers.\n",
    "Prints the mean and sum of these numbers using NumPy functions.\n",
    "Uses Matplotlib to plot a simple line graph of these numbers."
   ],
   "id": "781722ff6f8203a4"
  },
  {
   "metadata": {},
   "cell_type": "code",
   "outputs": [],
   "execution_count": null,
   "source": [
    "import numpy as np\n",
    "import matplotlib.pyplot as plt\n",
    "import pandas as pd\n",
    "\n",
    "nums = np.random.randint(0, 10, 10)\n",
    "print(nums)\n",
    "\n",
    "print(np.mean(nums))\n",
    "print(np.sum(nums))\n",
    "\n",
    "plt.plot(nums)\n"
   ],
   "id": "2e7e399381ef5475"
  },
  {
   "metadata": {},
   "cell_type": "markdown",
   "source": [
    "2. Strings and Regular Expressions (Section 14) (2 points)\n",
    "Task:\n",
    "Write a Python script that extracts all email addresses from a given text using regular expressions.\n",
    "HINTThe expression is as follows\n",
    "email_pattern = r'[a-zA-Z0-9._%+-]+@[a-zA-Z0-9.-]+\\.[a-zA-Z]{2,}' Example Input:\n",
    "\n",
    "pythonCopyEdittext = \"Contact us at support@example.com or sales@example.org for assistance.\"\n",
    "Expected Output:\n",
    "\n",
    "cssCopyEdit['support@example.com', 'sales@example.org']"
   ],
   "id": "11abb9552db7cf80"
  },
  {
   "metadata": {
    "ExecuteTime": {
     "end_time": "2025-02-26T14:37:19.502851Z",
     "start_time": "2025-02-26T14:37:19.494349Z"
    }
   },
   "cell_type": "code",
   "source": [
    "import re\n",
    "\n",
    "def extract_emails(text):\n",
    "    # Regular expression pattern for matching email addresses\n",
    "    email_pattern = r'[a-zA-Z0-9._%+-]+@[a-zA-Z0-9.-]+\\.[a-zA-Z]{2,}'\n",
    "\n",
    "    # Find all matches of the pattern in the input text\n",
    "    emails = re.findall(email_pattern, text)\n",
    "\n",
    "    return emails\n",
    "\n",
    "# Example input text\n",
    "input_text = \"Contact us at support@example.com or sales@example.org for assistance.\"\n",
    "\n",
    "# Extract emails\n",
    "emails = extract_emails(input_text)\n",
    "\n",
    "# Print the output\n",
    "print(emails)\n"
   ],
   "id": "8fbfb8e8e3466236",
   "outputs": [
    {
     "name": "stdout",
     "output_type": "stream",
     "text": [
      "['support@example.com', 'sales@example.org']\n"
     ]
    }
   ],
   "execution_count": 1
  },
  {
   "metadata": {},
   "cell_type": "markdown",
   "source": [
    "3. Preview of Data Science Tools (Section 15) (3 points)\n",
    "Task:\n",
    "Import NumPy, pandas, and Matplotlib.\n",
    "Perform the following simple operations:\n",
    "Use NumPy to create an array of 5 random numbers and print them.\n",
    "Use pandas to create a simple table with 3 columns (Name, Age, City) and 3 rows.\n",
    "Use Matplotlib to create a basic bar chart with 3 bars (representing any made-up values).\n",
    "Example Output:\n",
    "A list of 5 random numbers.\n",
    "A small table displayed in pandas.\n",
    "A bar chart with 3 bars."
   ],
   "id": "7c6d68567ff85df8"
  },
  {
   "metadata": {
    "ExecuteTime": {
     "end_time": "2025-02-26T14:41:10.779073Z",
     "start_time": "2025-02-26T14:41:02.860996Z"
    }
   },
   "cell_type": "code",
   "source": [
    "import numpy as np\n",
    "import matplotlib.pyplot as plt\n",
    "import pandas as pd\n",
    "\n",
    "x = np.random.randint(1,10,5)\n",
    "print(x)\n",
    "\n",
    "words = {\n",
    "    'Name': ['Alice', 'Bob', 'Charlie'],\n",
    "    'Age': [25, 30, 35],\n",
    "    'City': ['New York', 'Los Angeles', 'Chicago']\n",
    "}\n",
    "\n",
    "df = pd.DataFrame(words)\n",
    "\n",
    "print(df)\n",
    "\n",
    "labels = ['Giraffes', 'Elephants', 'Monkeys']\n",
    "y = [3, 6, 9]\n",
    "\n",
    "plt.bar(labels, y)\n",
    "\n",
    "plt.show()\n",
    "\n"
   ],
   "id": "bc7cecb5678abd6",
   "outputs": [
    {
     "name": "stdout",
     "output_type": "stream",
     "text": [
      "[3 8 7 3 9]\n",
      "      Name  Age         City\n",
      "0    Alice   25     New York\n",
      "1      Bob   30  Los Angeles\n",
      "2  Charlie   35      Chicago\n"
     ]
    },
    {
     "data": {
      "text/plain": [
       "<Figure size 640x480 with 1 Axes>"
      ],
      "image/png": "[encoded data removed]"
     },
     "metadata": {},
     "output_type": "display_data"
    }
   ],
   "execution_count": 2
  },
  {
   "metadata": {},
   "cell_type": "markdown",
   "source": [
    "4. Exploring Further Resources (Section 16) & Figures (Section 17) (3 points)\n",
    "Task:\n",
    "Experiment with Matplotlib:\n",
    "Try changing the colors of a plot.\n",
    "Add labels to the x-axis and y-axis.\n",
    "Change the title of the plot.\n",
    "Write a short paragraph (2-3 sentences) about one interesting thing you learned from playing around with Matplotlib."
   ],
   "id": "475cc51f66d658aa"
  },
  {
   "metadata": {
    "ExecuteTime": {
     "end_time": "2025-02-26T14:48:21.389351Z",
     "start_time": "2025-02-26T14:48:21.307563Z"
    }
   },
   "cell_type": "code",
   "source": [
    "labels = ['Giraffes', 'Elephants', 'Monkeys']\n",
    "y = [3, 6, 9]\n",
    "colors = ['red', 'yellow', 'purple']\n",
    "plt.bar(labels, y, color=colors)\n",
    "plt.xlabel('Animals')\n",
    "plt.ylabel('Number')\n",
    "plt.title('How many animals are in the zoo?')\n",
    "\n",
    "plt.show()\n",
    "\n",
    "print(\"I learned that MATPLOTLIB acts a lot like how one would plot things in the programming language MATLAB. It is interesting to note that just like in Matlab, you can specify the types of color that you want on a graph in multiple manners, whether that be by hexadecimal code name or by colloquial name.\")"
   ],
   "id": "17563978db28dc11",
   "outputs": [
    {
     "data": {
      "text/plain": [
       "<Figure size 640x480 with 1 Axes>"
      ],
      "image/png": "[encoded data removed]"
     },
     "metadata": {},
     "output_type": "display_data"
    },
    {
     "name": "stdout",
     "output_type": "stream",
     "text": [
      "I learned that MATPLOTLIB acts a lot like how one would plot things in the programming language MATLAB. It is interesting to note that just like in Matlab, you can specify the types of color that you want on a graph in multiple manners, whether that be by hexadecimal code name or by colloquial name.\n"
     ]
    }
   ],
   "execution_count": 5
  },
  {
   "metadata": {},
   "cell_type": "code",
   "outputs": [],
   "execution_count": null,
   "source": "",
   "id": "842f907310837abe"
  }
 ],
 "metadata": {
  "kernelspec": {
   "name": "python3",
   "language": "python",
   "display_name": "Python 3 (ipykernel)"
  }
 },
 "nbformat": 5,
 "nbformat_minor": 9
}
