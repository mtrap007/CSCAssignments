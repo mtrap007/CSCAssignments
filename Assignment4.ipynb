{
 "cells": [
  {
   "metadata": {},
   "cell_type": "markdown",
   "source": [
    "Basic Function (2 points)\n",
    "Write a function add_numbers that takes two numbers and returns their sum. Implement this using both a regular function and a lambda function.\n",
    "\n",
    "Test your function with add_numbers(3, 5) and add_lambda(3, 5)."
   ],
   "id": "a35d8ac3ed327ee9"
  },
  {
   "metadata": {},
   "cell_type": "code",
   "outputs": [],
   "execution_count": null,
   "source": [
    "def add_numbers(x,y):\n",
    "    return x + y\n",
    "\n",
    "add_lambda = lambda x,y: x + y\n",
    "\n",
    "\n",
    "print(\"The value of add_numbers is\", add_numbers(3,5))\n",
    "\n",
    "print(\"The value of add_lambda is\", add_lambda(3,5))\n",
    "\n"
   ],
   "id": "b1b26e86f46133b6"
  },
  {
   "metadata": {},
   "cell_type": "markdown",
   "source": [
    "Flexible Function (2 points)\n",
    "Modify join_words to accept an arbitrary number of words and return them concatenated into a single string with spaces. Implement this using both a regular function and a lambda function.\n",
    "\n",
    "\n",
    "Test it with join_words(\"Hello\", \"world\", \"!\")."
   ],
   "id": "c3a3ccefd027d65b"
  },
  {
   "metadata": {},
   "cell_type": "code",
   "outputs": [],
   "execution_count": null,
   "source": [
    "def join_words(*words):\n",
    "    return \" \".join(words)\n",
    "\n",
    "my_words = lambda *words: \" \".join(words)\n",
    "\n",
    "print(join_words(\"Hello\", \"world\", \"!\"))\n",
    "\n",
    "print(\"My lambda function prints, too:\", my_words(\"Hello\", \"world\", \"!\"))\n"
   ],
   "id": "b4e2602f564d1c50"
  },
  {
   "metadata": {},
   "cell_type": "markdown",
   "source": [
    "Recursive Function (2 points)\n",
    "Write a recursive function countdown(n) that prints numbers from n to 0. Test it with countdown(5)."
   ],
   "id": "4f1d20c5846c5ae5"
  },
  {
   "metadata": {},
   "cell_type": "code",
   "outputs": [],
   "execution_count": null,
   "source": [
    "def countdown(n):\n",
    "    if n>=0:\n",
    "        print(n)\n",
    "        countdown(n-1)\n",
    "\n",
    "countdown(5)"
   ],
   "id": "65bb0c3dffb9c61a"
  },
  {
   "metadata": {},
   "cell_type": "markdown",
   "source": [
    "Normal Function Usage (2 points)\n",
    "Write a function greet that takes a name as input and returns a greeting message. Implement this as a normal function.\n",
    "\n",
    "Test it with greet(\"Alice\")."
   ],
   "id": "e22197759dd9e691"
  },
  {
   "metadata": {},
   "cell_type": "code",
   "outputs": [],
   "execution_count": null,
   "source": [
    "def greet(*name):\n",
    "    print(\"Hello, \" + \" \".join(name))\n",
    "\n",
    "greet(\"Alice\")"
   ],
   "id": "32409f144c4e1555"
  },
  {
   "metadata": {},
   "cell_type": "markdown",
   "source": [
    "Function with Default Arguments (2 points)\n",
    "Write a function repeat_phrase that repeats a phrase a given number of times, with a default of 2.\n",
    "\n",
    "\n",
    "Test it with repeat_phrase(\"Hi! \") and repeat_phrase(\"Hi! \", 3)."
   ],
   "id": "7d0e5eabad53050c"
  },
  {
   "metadata": {},
   "cell_type": "code",
   "outputs": [],
   "execution_count": null,
   "source": [
    "def repeat_phrase(phrase, times=2):\n",
    "    return (phrase + \" \") * times\n",
    "\n",
    "print(repeat_phrase(\"Hi!\"))\n",
    "print(repeat_phrase(\"Hi!\", 3))"
   ],
   "id": "165bc6367988d2fa"
  },
  {
   "metadata": {},
   "cell_type": "markdown",
   "source": [
    "Higher-Order Function (2 points)\n",
    "Write a function apply_function that takes a function and a value as arguments and applies the function to the value.\n",
    "\n",
    "\n",
    "Test it with apply_function(lambda x: x.upper(), \"hello\")."
   ],
   "id": "e8d42d0b23786157"
  },
  {
   "metadata": {},
   "cell_type": "code",
   "outputs": [],
   "execution_count": null,
   "source": [
    "def apply_function(function, *args):\n",
    "    return function(*args)\n",
    "\n",
    "apply_function(lambda x: x.upper(), \"hello\")\n"
   ],
   "id": "c99e8319f8ee2326"
  },
  {
   "metadata": {},
   "cell_type": "markdown",
   "source": [
    "Handling Errors (3 points)\n",
    "Write a function safe_divide(a, b) that divides a by b, but catches the ZeroDivisionError and prints an error message instead of crashing."
   ],
   "id": "3e43826632df29ac"
  },
  {
   "metadata": {},
   "cell_type": "code",
   "outputs": [],
   "execution_count": null,
   "source": [
    "def safe_divide(a,b):\n",
    "    try:\n",
    "        return a / b\n",
    "    except ZeroDivisionError:\n",
    "        return \"Error: Cannot divide by zero\"\n",
    "\n",
    "safe_divide(1,2)"
   ],
   "id": "587220e4cf720aa1"
  },
  {
   "metadata": {},
   "cell_type": "markdown",
   "source": [
    "Custom Exceptions (3 points)\n",
    "Write a function check_age(age) that raises a ValueError with the message \"Age must be a positive integer\" if age is negative or not an integer."
   ],
   "id": "2e0ee21e3fa390ff"
  },
  {
   "metadata": {},
   "cell_type": "code",
   "outputs": [],
   "execution_count": null,
   "source": [
    " def check_age(age):\n",
    "    if type(age) != int or age <= 0:\n",
    "        raise ValueError(\"Age must be a positive integer\")\n",
    "    print(\"Age is\", age)\n",
    "\n",
    " check_age(4)"
   ],
   "id": "a175030e8f086339"
  },
  {
   "metadata": {},
   "cell_type": "code",
   "outputs": [],
   "execution_count": null,
   "source": "",
   "id": "df06dfb8b8308820"
  },
  {
   "metadata": {},
   "cell_type": "markdown",
   "source": [
    "Handling Multiple Exceptions (2 points)\n",
    "Write a function parse_int(value) that tries to convert a string to an integer and handles ValueError if the conversion fails."
   ],
   "id": "2761243058c3fcbe"
  },
  {
   "metadata": {},
   "cell_type": "code",
   "outputs": [],
   "execution_count": null,
   "source": [
    "def parse_int(value):\n",
    "    try:\n",
    "        return int(value)\n",
    "    except ValueError:\n",
    "        raise SyntaxError('not an integer')\n",
    "\n",
    "parse_int(\"928\")"
   ],
   "id": "d0ce42d95a967b1a"
  },
  {
   "metadata": {},
   "cell_type": "markdown",
   "source": [
    "Finally Block (2 points)\n",
    "Modify safe_divide to include a finally block that prints \"Division attempted\"."
   ],
   "id": "63237fa9af33689a"
  },
  {
   "metadata": {},
   "cell_type": "code",
   "outputs": [],
   "execution_count": null,
   "source": [
    "def safe_divide(a,b):\n",
    "    try:\n",
    "        return a / b\n",
    "    except ZeroDivisionError:\n",
    "        return \"Error: Cannot divide by zero\"\n",
    "    finally:\n",
    "        print(\"Division attempted\")\n",
    "\n",
    "safe_divide(1,2)"
   ],
   "id": "2022eb529fc4438e"
  },
  {
   "metadata": {},
   "cell_type": "markdown",
   "source": [
    "Using Built-in Iterators (4 points)\n",
    "Use the built-in iter and next functions to iterate over a list of numbers [5, 4, 3, 2, 1] manually."
   ],
   "id": "6c95e9afbc8f0f3f"
  },
  {
   "metadata": {},
   "cell_type": "code",
   "outputs": [],
   "execution_count": null,
   "source": "",
   "id": "4b062a9db8e1e62d"
  },
  {
   "metadata": {},
   "cell_type": "markdown",
   "source": [
    "Using Generator Expressions (4 points)\n",
    "Use a generator expression to create an iterator that yields uppercase versions of words in a list. Iterate over it using a for loop."
   ],
   "id": "d4af02fd1835ce2b"
  },
  {
   "metadata": {},
   "cell_type": "code",
   "outputs": [],
   "execution_count": null,
   "source": "",
   "id": "e7d99366194df4e1"
  },
  {
   "metadata": {},
   "cell_type": "markdown",
   "source": [
    "Custom Iterator Class (2 points)\n",
    "Write a custom iterator class Countdown that counts down from a given number to zero."
   ],
   "id": "2c60a5eeab57aaad"
  },
  {
   "metadata": {},
   "cell_type": "code",
   "outputs": [],
   "execution_count": null,
   "source": "",
   "id": "24e50c4cda4a8817"
  },
  {
   "metadata": {},
   "cell_type": "markdown",
   "source": [
    "Using itertools (2 points)\n",
    "Use the itertools.cycle function to cycle through a list of colors [\"red\", \"blue\", \"green\"] indefinitely and print the first 6 values."
   ],
   "id": "61df4dcb52549685"
  },
  {
   "metadata": {},
   "cell_type": "code",
   "outputs": [],
   "execution_count": null,
   "source": "",
   "id": "d3ef3b65e0077601"
  }
 ],
 "metadata": {},
 "nbformat": 5,
 "nbformat_minor": 9
}
