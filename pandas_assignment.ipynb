{
 "cells": [
  {
   "metadata": {},
   "cell_type": "markdown",
   "source": [
    "\n",
    "Create a Series from a list of exam scores. Assign student names as the index. Then find:\n",
    "\n",
    "The top scorer\n",
    "\n",
    "All students scoring above the mean"
   ],
   "id": "f3da4a04efcbc238"
  },
  {
   "metadata": {
    "ExecuteTime": {
     "end_time": "2025-04-10T23:22:10.376348Z",
     "start_time": "2025-04-10T23:22:10.364768Z"
    }
   },
   "cell_type": "code",
   "source": [
    "import pandas as pd\n",
    "scores = pd.Series([85, 92, 78, 90, 88],\n",
    "                   index=['Megan', 'Rose', 'Peter', 'Craig', 'Rob'])\n",
    "\n",
    "top_scorer = scores.idxmax()\n",
    "print(f\"Highest scoring student: {top_scorer}\")\n",
    "\n",
    "above_mean = scores[scores > scores.mean()]\n",
    "print(\"\\nStudents above mean score:\")\n",
    "print(above_mean)"
   ],
   "id": "36c6249ef9f9ef0b",
   "outputs": [
    {
     "name": "stdout",
     "output_type": "stream",
     "text": [
      "Top scorer: Rose\n",
      "\n",
      "Students above mean score:\n",
      "Rose     92\n",
      "Craig    90\n",
      "Rob      88\n",
      "dtype: int64\n"
     ]
    }
   ],
   "execution_count": 7
  },
  {
   "metadata": {},
   "cell_type": "markdown",
   "source": [
    "Create a DataFrame using a dictionary of lists. Include at least 3 columns with different data types. Compute:\n",
    "\n",
    "Data types of each column\n",
    "\n",
    "Summary statistics"
   ],
   "id": "df950fb8da4adb8f"
  },
  {
   "metadata": {
    "ExecuteTime": {
     "end_time": "2025-04-10T23:22:40.435206Z",
     "start_time": "2025-04-10T23:22:40.417285Z"
    }
   },
   "cell_type": "code",
   "source": [
    "import pandas as pd\n",
    "\n",
    "# Create DataFrame\n",
    "data = {\n",
    "    'Name': ['Alice', 'Bob', 'Charlie'],\n",
    "    'Age': [25, 30, 35],\n",
    "    'Gender': ['F', 'M', 'F']\n",
    "}\n",
    "\n",
    "df = pd.DataFrame(data)\n",
    "\n",
    "# Show data types\n",
    "print(\"Data types:\")\n",
    "print(df.dtypes)\n",
    "\n",
    "# Show summary statistics\n",
    "print(\"\\nSummary statistics:\")\n",
    "print(df.describe(include='all'))"
   ],
   "id": "15cc539c12171dba",
   "outputs": [
    {
     "name": "stdout",
     "output_type": "stream",
     "text": [
      "Data types:\n",
      "Name      object\n",
      "Age        int64\n",
      "Gender    object\n",
      "dtype: object\n",
      "\n",
      "Summary statistics:\n",
      "         Name   Age Gender\n",
      "count       3   3.0      3\n",
      "unique      3   NaN      2\n",
      "top     Alice   NaN      F\n",
      "freq        1   NaN      2\n",
      "mean      NaN  30.0    NaN\n",
      "std       NaN   5.0    NaN\n",
      "min       NaN  25.0    NaN\n",
      "25%       NaN  27.5    NaN\n",
      "50%       NaN  30.0    NaN\n",
      "75%       NaN  32.5    NaN\n",
      "max       NaN  35.0    NaN\n"
     ]
    }
   ],
   "execution_count": 8
  },
  {
   "metadata": {},
   "cell_type": "markdown",
   "source": [
    "Load a CSV file into a DataFrame. Perform the following:\n",
    "\n",
    "Display the first and last 5 rows\n",
    "\n",
    "Show .info() and .describe()\n",
    "\n",
    "Create a Series with datetime indices. Slice the series using index-based access to retrieve data from a given date range.\n",
    "\n",
    "Demonstrate basic arithmetic on two Series with non-aligned indices. Discuss the output and the role of index alignment."
   ],
   "id": "24194a1107848f81"
  },
  {
   "metadata": {},
   "cell_type": "code",
   "outputs": [],
   "execution_count": null,
   "source": [
    "import pandas as pd\n",
    "\n"
   ],
   "id": "775b59a8de94edaf"
  },
  {
   "metadata": {},
   "cell_type": "markdown",
   "source": [
    "Create a Series with datetime indices. Slice the series using index-based access to retrieve data from a given date range.\n",
    "\n",
    "Demonstrate basic arithmetic on two Series with non-aligned indices. Discuss the output and the role of index alignment."
   ],
   "id": "de9deb2c7528a5fa"
  },
  {
   "metadata": {},
   "cell_type": "code",
   "outputs": [],
   "execution_count": null,
   "source": "",
   "id": "9075eae901117101"
  },
  {
   "metadata": {},
   "cell_type": "markdown",
   "source": "Demonstrate the difference between .loc and .iloc using a custom DataFrame.\n",
   "id": "1448e9c0f7b71c2f"
  },
  {
   "metadata": {},
   "cell_type": "code",
   "outputs": [],
   "execution_count": null,
   "source": "",
   "id": "9b164115ec7f01a0"
  },
  {
   "metadata": {},
   "cell_type": "markdown",
   "source": "Use conditional logic to filter rows in a DataFrame based on values in one or more columns.",
   "id": "94db56655e5459d7"
  },
  {
   "metadata": {},
   "cell_type": "code",
   "outputs": [],
   "execution_count": null,
   "source": "",
   "id": "19cb7f800e9c005d"
  },
  {
   "metadata": {},
   "cell_type": "markdown",
   "source": "Create a boolean mask to find all elements in a DataFrame greater than a threshold.",
   "id": "211d644cdf5251e4"
  },
  {
   "metadata": {},
   "cell_type": "code",
   "outputs": [],
   "execution_count": null,
   "source": "",
   "id": "4d08266912ed4a01"
  },
  {
   "metadata": {},
   "cell_type": "markdown",
   "source": "Demonstrate chained indexing pitfalls and explain how to use .copy() to avoid them.",
   "id": "495785c7f4fba962"
  },
  {
   "metadata": {},
   "cell_type": "code",
   "outputs": [],
   "execution_count": null,
   "source": "",
   "id": "4b2f914659fe88d8"
  },
  {
   "metadata": {},
   "cell_type": "markdown",
   "source": "Create a DataFrame, set a custom index, and perform row and column slicing using .loc and .iloc.",
   "id": "cb25d96e7a366cd5"
  },
  {
   "metadata": {},
   "cell_type": "code",
   "outputs": [],
   "execution_count": null,
   "source": "",
   "id": "63f5df109e4e0af2"
  },
  {
   "metadata": {},
   "cell_type": "markdown",
   "source": [
    "Section 3.3 – Index Objects\n",
    "Create a Series with custom index and show that Index objects are immutable."
   ],
   "id": "d85f6f87ff754783"
  },
  {
   "metadata": {},
   "cell_type": "code",
   "outputs": [],
   "execution_count": null,
   "source": "",
   "id": "a5537c2cc215ac6d"
  },
  {
   "metadata": {},
   "cell_type": "markdown",
   "source": [
    "\n",
    "Generate a hierarchical index for a Series and access subsets of data using multiple levels."
   ],
   "id": "2e23aa4b35c80586"
  },
  {
   "metadata": {},
   "cell_type": "code",
   "outputs": [],
   "execution_count": null,
   "source": "",
   "id": "8ad177e4ca6271bc"
  },
  {
   "metadata": {},
   "cell_type": "markdown",
   "source": "Create a DataFrame with MultiIndex on rows and perform .swaplevel() and .sort_index().",
   "id": "b81f30e1407741d"
  },
  {
   "metadata": {},
   "cell_type": "code",
   "outputs": [],
   "execution_count": null,
   "source": "",
   "id": "bdb74974ca22e99d"
  },
  {
   "metadata": {},
   "cell_type": "markdown",
   "source": [
    "\n",
    "Reset and set index on a DataFrame and analyze the effects of drop and inplace."
   ],
   "id": "1fb498609fcbcd"
  },
  {
   "metadata": {},
   "cell_type": "code",
   "outputs": [],
   "execution_count": null,
   "source": "",
   "id": "c827f9f6772be4f5"
  },
  {
   "metadata": {},
   "cell_type": "markdown",
   "source": [
    "\n",
    "Demonstrate arithmetic between DataFrames with mismatched indices and explain automatic alignment."
   ],
   "id": "6e99b0c779dcb5fc"
  },
  {
   "metadata": {},
   "cell_type": "code",
   "outputs": [],
   "execution_count": null,
   "source": "",
   "id": "2d259dfdb0d42e58"
  },
  {
   "metadata": {},
   "cell_type": "markdown",
   "source": [
    "Section 3.4 – Reindexing\n",
    "Reindex a Series to include additional indices and fill the missing values using fill_value and method."
   ],
   "id": "f7ba873f58d85fc0"
  },
  {
   "metadata": {},
   "cell_type": "code",
   "outputs": [],
   "execution_count": null,
   "source": "",
   "id": "882eb6aaf596caed"
  },
  {
   "metadata": {},
   "cell_type": "markdown",
   "source": [
    "\n",
    "Reindex a DataFrame’s rows and columns and analyze the shape and null values.\n"
   ],
   "id": "9d19b6ab2def6029"
  },
  {
   "metadata": {},
   "cell_type": "code",
   "outputs": [],
   "execution_count": null,
   "source": "",
   "id": "68d263b01c9aad08"
  },
  {
   "metadata": {},
   "cell_type": "markdown",
   "source": [
    "\n",
    "Simulate a time series with missing dates. Use reindex() and interpolate() to fill gaps.\n"
   ],
   "id": "e2387b999788ea6"
  },
  {
   "metadata": {},
   "cell_type": "code",
   "outputs": [],
   "execution_count": null,
   "source": "",
   "id": "7f017d11c66783b"
  },
  {
   "metadata": {},
   "cell_type": "markdown",
   "source": [
    "\n",
    "Write a function that reindexes a Series/DataFrame to a desired index with a selected method.\n"
   ],
   "id": "1067b535e14d4df1"
  },
  {
   "metadata": {},
   "cell_type": "code",
   "outputs": [],
   "execution_count": null,
   "source": "",
   "id": "dce492abe31f4e1f"
  },
  {
   "metadata": {},
   "cell_type": "markdown",
   "source": "Compare reindex() with sort_index() and sort_values() using sample data.",
   "id": "6f9670bf62d778c2"
  },
  {
   "metadata": {},
   "cell_type": "code",
   "outputs": [],
   "execution_count": null,
   "source": "",
   "id": "ccf3bf2a6680654b"
  },
  {
   "metadata": {},
   "cell_type": "markdown",
   "source": [
    "Section 3.5 – Ufuncs: Index Preservation\n",
    "Apply NumPy universal functions (e.g., np.exp, np.log) to Series and observe index preservation.\n"
   ],
   "id": "3a17bc5b3245ca5"
  },
  {
   "metadata": {},
   "cell_type": "code",
   "outputs": [],
   "execution_count": null,
   "source": "",
   "id": "412967527086d9ad"
  },
  {
   "metadata": {},
   "cell_type": "markdown",
   "source": "Apply element-wise operations on two Series with partially overlapping indices.",
   "id": "d1d8b79fd5a68f83"
  },
  {
   "metadata": {},
   "cell_type": "code",
   "outputs": [],
   "execution_count": null,
   "source": "",
   "id": "e5ea7336c1bf2ce4"
  },
  {
   "metadata": {},
   "cell_type": "markdown",
   "source": [
    "\n",
    "Use np.where on a Series to apply conditional logic in a vectorized fashion."
   ],
   "id": "c13143a8c95092ed"
  },
  {
   "metadata": {},
   "cell_type": "code",
   "outputs": [],
   "execution_count": null,
   "source": "",
   "id": "9ac91285805da81b"
  },
  {
   "metadata": {},
   "cell_type": "markdown",
   "source": [
    "\n",
    "Create a function that applies a ufunc and returns a cleaned result (handling NaNs and type changes)."
   ],
   "id": "1eb9a546d992f8c6"
  },
  {
   "metadata": {},
   "cell_type": "code",
   "outputs": [],
   "execution_count": null,
   "source": "",
   "id": "f2e1d91e1c4e86e1"
  },
  {
   "metadata": {},
   "cell_type": "markdown",
   "source": "Compare element-wise operations on Series vs. NumPy arrays. Discuss indexing and performance.",
   "id": "5c5b24cb32e1e3d6"
  },
  {
   "metadata": {},
   "cell_type": "code",
   "outputs": [],
   "execution_count": null,
   "source": "",
   "id": "8703f58c31acfccc"
  },
  {
   "metadata": {},
   "cell_type": "markdown",
   "source": [
    "Section 3.6 – Operating on Data in Pandas\n",
    "Apply arithmetic operations to a DataFrame and demonstrate broadcasting across rows/columns.\n"
   ],
   "id": "5179a970cd6cc0f0"
  },
  {
   "metadata": {},
   "cell_type": "code",
   "outputs": [],
   "execution_count": null,
   "source": "",
   "id": "29488f3876a4871d"
  },
  {
   "metadata": {},
   "cell_type": "markdown",
   "source": [
    "\n",
    "Use .add(), .sub(), .div(), etc., to perform safe arithmetic with fill values.\n"
   ],
   "id": "8c6e710a2a5b8840"
  },
  {
   "metadata": {},
   "cell_type": "code",
   "outputs": [],
   "execution_count": null,
   "source": "",
   "id": "77714732ed2f508e"
  },
  {
   "metadata": {},
   "cell_type": "markdown",
   "source": "Calculate row-wise and column-wise statistics (mean, sum, std, etc.) using .agg() and .apply().\n",
   "id": "d72be31566d90f82"
  },
  {
   "metadata": {},
   "cell_type": "code",
   "outputs": [],
   "execution_count": null,
   "source": "",
   "id": "64a184613490675b"
  },
  {
   "metadata": {},
   "cell_type": "markdown",
   "source": "Use axis parameters to normalize each row and column in a DataFrame.",
   "id": "bd6a148debb91356"
  },
  {
   "metadata": {},
   "cell_type": "code",
   "outputs": [],
   "execution_count": null,
   "source": "",
   "id": "8cd4cf703956b9f"
  },
  {
   "metadata": {},
   "cell_type": "markdown",
   "source": [
    "\n",
    "Create a function that accepts a DataFrame and returns a standardized (z-score normalized) version."
   ],
   "id": "46e5cf9a95a30c5c"
  },
  {
   "metadata": {},
   "cell_type": "code",
   "outputs": [],
   "execution_count": null,
   "source": "",
   "id": "961b0d571868f44b"
  },
  {
   "metadata": {},
   "cell_type": "markdown",
   "source": [
    "Section 3.7 – Handling Missing Data\n",
    "Create a DataFrame with intentional NaN values. Use .isnull() and .notnull() to locate them.\n",
    "\n",
    "Drop rows or columns with missing data using dropna() with different thresholds.\n",
    "\n",
    "Fill missing data using constant values, forward-fill, and backward-fill.\n",
    "\n",
    "Use .interpolate() on time series data with gaps.\n",
    "\n",
    "Create a reusable cleaning pipeline using functions that handle missing values in different ways."
   ],
   "id": "14224b499a5f6f1c"
  }
 ],
 "metadata": {
  "kernelspec": {
   "display_name": "Python 3",
   "language": "python",
   "name": "python3"
  },
  "language_info": {
   "codemirror_mode": {
    "name": "ipython",
    "version": 2
   },
   "file_extension": ".py",
   "mimetype": "text/x-python",
   "name": "python",
   "nbconvert_exporter": "python",
   "pygments_lexer": "ipython2",
   "version": "2.7.6"
  }
 },
 "nbformat": 4,
 "nbformat_minor": 5
}
